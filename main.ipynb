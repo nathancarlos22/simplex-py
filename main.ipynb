{
  "nbformat": 4,
  "nbformat_minor": 0,
  "metadata": {
    "colab": {
      "name": "PO.ipynb",
      "provenance": [],
      "collapsed_sections": []
    },
    "kernelspec": {
      "name": "python3",
      "display_name": "Python 3"
    }
  },
  "cells": [
    {
      "cell_type": "code",
      "metadata": {
        "id": "Pch_J6Y-tR4D",
        "colab_type": "code",
        "colab": {}
      },
      "source": [
        "import numpy as np"
      ],
      "execution_count": 0,
      "outputs": []
    },
    {
      "cell_type": "code",
      "metadata": {
        "id": "2u6Vdi8k8u-P",
        "colab_type": "code",
        "outputId": "d43027c9-daee-4c69-d448-8ee08dca3ae8",
        "colab": {
          "base_uri": "https://localhost:8080/",
          "height": 105
        }
      },
      "source": [
        "!pip install ortools"
      ],
      "execution_count": 48,
      "outputs": [
        {
          "output_type": "stream",
          "text": [
            "Requirement already satisfied: ortools in /usr/local/lib/python3.6/dist-packages (7.5.7466)\n",
            "Requirement already satisfied: protobuf>=3.11.2 in /usr/local/lib/python3.6/dist-packages (from ortools) (3.11.3)\n",
            "Requirement already satisfied: six>=1.10 in /usr/local/lib/python3.6/dist-packages (from ortools) (1.12.0)\n",
            "Requirement already satisfied: setuptools in /usr/local/lib/python3.6/dist-packages (from protobuf>=3.11.2->ortools) (45.1.0)\n"
          ],
          "name": "stdout"
        }
      ]
    },
    {
      "cell_type": "markdown",
      "metadata": {
        "id": "_Lp8uX7PyY5L",
        "colab_type": "text"
      },
      "source": [
        "# **Lendo arquivo**"
      ]
    },
    {
      "cell_type": "code",
      "metadata": {
        "id": "fUCSK4-MNdcM",
        "colab_type": "code",
        "outputId": "a4889770-4b6b-40d4-c3cb-df5d58a64036",
        "colab": {
          "base_uri": "https://localhost:8080/",
          "height": 34
        }
      },
      "source": [
        "path = 'Problema.txt'\n",
        "arquivo = open(path,'r')\n",
        "numeros = []\n",
        "\n",
        "for linha  in arquivo:\n",
        "  linha = linha.strip()\n",
        "  numeros.append(linha)\n",
        "\n",
        "arquivo.close()\n",
        "numeros"
      ],
      "execution_count": 126,
      "outputs": [
        {
          "output_type": "execute_result",
          "data": {
            "text/plain": [
              "['3 2', '5 10 8', '3 5 2 60', '4 4 4 72']"
            ]
          },
          "metadata": {
            "tags": []
          },
          "execution_count": 126
        }
      ]
    },
    {
      "cell_type": "code",
      "metadata": {
        "id": "RStehMedaPRE",
        "colab_type": "code",
        "colab": {}
      },
      "source": [
        "x1 = numeros[0].split(' ') #variaveis e restricoes:\n",
        "c = numeros[1].split(' ') #Coecicientes das variaveis na funcao objetivo"
      ],
      "execution_count": 0,
      "outputs": []
    },
    {
      "cell_type": "code",
      "metadata": {
        "id": "9Fqfhr4enxuS",
        "colab_type": "code",
        "colab": {}
      },
      "source": [
        "rest = len(numeros)-2 #Numeros de restrições\n",
        "var = int(x1[0]) #Números de variáveis"
      ],
      "execution_count": 0,
      "outputs": []
    },
    {
      "cell_type": "markdown",
      "metadata": {
        "id": "dBgjtaMYvxok",
        "colab_type": "text"
      },
      "source": [
        "# ***Formatação para entrada do modelo***\n",
        "  O solver exige que os arrays sejam da seguinte forma:\n",
        "\n",
        "\n",
        "*   Os arrays das restrições precisam ser separados da igualdade\n",
        "  \n",
        "  Ex: \n",
        "  \n",
        "        x1 + x2 <= 10 e x1 + x2 <= 20\n",
        "  é necessário um array [ 10, 20 ] e outro com os coeficientes das restrições"
      ]
    },
    {
      "cell_type": "code",
      "metadata": {
        "id": "MwH5WaJfrN-r",
        "colab_type": "code",
        "outputId": "a4227a12-f905-46da-fed6-c434d4899c46",
        "colab": {
          "base_uri": "https://localhost:8080/",
          "height": 34
        }
      },
      "source": [
        "a = [0]*rest #inicializando array com o numero de restricoes\n",
        "b = [0]*rest \n",
        "\n",
        "for i in range(2, len(numeros)): #começando em dois pois oq vem depois da linha 2 sao as restricoes\n",
        "    aa = numeros[i].split(' ')\n",
        "    b[i-2] = aa[len(aa)-1]\n",
        "    del(aa[len(aa)-1])\n",
        "    a[i-2] = aa\n",
        "print(a, b, c)"
      ],
      "execution_count": 129,
      "outputs": [
        {
          "output_type": "stream",
          "text": [
            "[['3', '5', '2'], ['4', '4', '4']] ['60', '72'] ['5', '10', '8']\n"
          ],
          "name": "stdout"
        }
      ]
    },
    {
      "cell_type": "markdown",
      "metadata": {
        "id": "PVxawECZujDB",
        "colab_type": "text"
      },
      "source": [
        "# ***Convertendo os arrays em double***\n",
        "  A biblioteca or-tolls exige que as variáveis sejam desta forma"
      ]
    },
    {
      "cell_type": "code",
      "metadata": {
        "id": "dKxlrrVGtJUR",
        "colab_type": "code",
        "outputId": "617d968b-9c7c-49f0-c058-6fb47f3fc0bd",
        "colab": {
          "base_uri": "https://localhost:8080/",
          "height": 51
        }
      },
      "source": [
        "a = np.double( a )\n",
        "b = np.double( b )\n",
        "c = np.double( c )\n",
        "\n",
        "print(a, b, c)"
      ],
      "execution_count": 130,
      "outputs": [
        {
          "output_type": "stream",
          "text": [
            "[[3. 5. 2.]\n",
            " [4. 4. 4.]] [60. 72.] [ 5. 10.  8.]\n"
          ],
          "name": "stdout"
        }
      ]
    },
    {
      "cell_type": "markdown",
      "metadata": {
        "id": "pmbvuhsygr6x",
        "colab_type": "text"
      },
      "source": [
        "# **Definindo tipos**\n",
        "\n",
        "*  Para resolver o problema em inteiro ou não\n",
        "  \n",
        "        intOrNot = True\n",
        "        intOrNot = False\n",
        "\n",
        "*  Setar igualdades das restrições\n",
        "  \n",
        "        LessMoreOrEqual = 'MoreOrEqual'\n",
        "        LessMoreOrEqual = 'LessOrEqual'\n",
        "      \n",
        "* Setar função objetivo\n",
        "\n",
        "        MaxOrMin = 'Min'\n",
        "        MaxOrMin = 'Max'\n"
      ]
    },
    {
      "cell_type": "code",
      "metadata": {
        "id": "-WfR6leggoJq",
        "colab_type": "code",
        "colab": {}
      },
      "source": [
        "IntOrNot = False\n",
        "LessMoreOrEqual = 'MoreOrEqual'\n",
        "MaxOrMin = 'Min'"
      ],
      "execution_count": 0,
      "outputs": []
    },
    {
      "cell_type": "markdown",
      "metadata": {
        "id": "dhZO4vvtvhFh",
        "colab_type": "text"
      },
      "source": [
        "# ***Criando o modelo***"
      ]
    },
    {
      "cell_type": "code",
      "metadata": {
        "id": "lBokU7pstyW4",
        "colab_type": "code",
        "colab": {}
      },
      "source": [
        "def create_data_model(A, B, C, num_vars, num_rest):\n",
        "  data = {}\n",
        "  data['constraint_coeffs'] = A\n",
        "  data['bounds'] = B\n",
        "  data['obj_coeffs'] = C\n",
        "  data['num_vars'] = num_vars\n",
        "  data['num_constraints'] = num_rest\n",
        "  return data"
      ],
      "execution_count": 0,
      "outputs": []
    },
    {
      "cell_type": "code",
      "metadata": {
        "id": "tJnUM9YZIEeA",
        "colab_type": "code",
        "colab": {}
      },
      "source": [
        "data = create_data_model(a, b, c, var, rest)"
      ],
      "execution_count": 0,
      "outputs": []
    },
    {
      "cell_type": "markdown",
      "metadata": {
        "id": "CLsuM-4Qh_tz",
        "colab_type": "text"
      },
      "source": [
        "# **Main**"
      ]
    },
    {
      "cell_type": "code",
      "metadata": {
        "id": "XhNMQeO2LW3R",
        "colab_type": "code",
        "colab": {}
      },
      "source": [
        "from ortools.linear_solver import pywraplp\n",
        "\n",
        "def main(IntOrNot, LessMoreOrEqual, MaxOrMin):\n",
        "\n",
        "  solver = pywraplp.Solver('simple_mip_program', pywraplp.Solver.CBC_MIXED_INTEGER_PROGRAMMING)\n",
        "\n",
        "  infinity = solver.infinity()\n",
        "  x = {}\n",
        "\n",
        "  if IntOrNot == False:\n",
        "    for j in range(data['num_vars']):\n",
        "        x[j] = solver.NumVar(0, infinity, 'x[%i]' % j) #Variáveis positivas\n",
        "  else:\n",
        "    for j in range(data['num_vars']):\n",
        "        x[j] = solver.IntVar(0, infinity, 'x[%i]' % j) #Variáveis positivas inteiras\n",
        "  \n",
        "  print('Numero de variaveis =', solver.NumVariables())\n",
        "  \n",
        "  if LessMoreOrEqual == 'LessOrEqual':\n",
        "    for i in range(data['num_constraints']):\n",
        "        constraint = solver.RowConstraint(0, data['bounds'][i], '')#limite inferior, superor e nome da restrição\n",
        "        for j in range(data['num_vars']):\n",
        "            constraint.SetCoefficient(x[j], data['constraint_coeffs'][i][j]) \n",
        "  \n",
        "  if LessMoreOrEqual == 'MoreOrEqual':\n",
        "    for i in range(data['num_constraints']):\n",
        "      constraint = solver.RowConstraint(data['bounds'][i], infinity, '')#limite inferior, superior e nome da restrição\n",
        "      for j in range(data['num_vars']):\n",
        "        constraint.SetCoefficient(x[j], data['constraint_coeffs'][i][j]) \n",
        "  \n",
        "  print('Numero de restriçoes =', solver.NumConstraints())\n",
        "\n",
        "  objective = solver.Objective()\n",
        "  \n",
        "  for j in range(data['num_vars']):\n",
        "      objective.SetCoefficient(x[j], data['obj_coeffs'][j])\n",
        "  \n",
        "  if MaxOrMin == 'Max':\n",
        "    objective.SetMaximization()\n",
        "  else:\n",
        "    objective.SetMinimization()\n",
        "\n",
        "  status = solver.Solve()\n",
        "\n",
        "  if status == pywraplp.Solver.OPTIMAL:\n",
        "      print('Valor ótimo = ', solver.Objective().Value())\n",
        "      for j in range(data['num_vars']):\n",
        "          print(x[j].name(), ' = ', x[j].solution_value())\n",
        "      print()\n",
        "      print('Problema resolvido em %f milliseconds' % solver.wall_time())\n",
        "      print('Problema resolvido em %d iteracoes' % solver.iterations())\n",
        "      print('Problema resolvido em %d branch-and-bound nodes' % solver.nodes())\n",
        "  else:\n",
        "      print('Nao tem solucao otima.')"
      ],
      "execution_count": 0,
      "outputs": []
    },
    {
      "cell_type": "code",
      "metadata": {
        "id": "ekpLErVhfcjE",
        "colab_type": "code",
        "colab": {
          "base_uri": "https://localhost:8080/",
          "height": 187
        },
        "outputId": "3d08bca4-adf8-4ab3-c419-01e60d6f8223"
      },
      "source": [
        "main(IntOrNot, LessMoreOrEqual, MaxOrMin)"
      ],
      "execution_count": 135,
      "outputs": [
        {
          "output_type": "stream",
          "text": [
            "Numero de variaveis = 3\n",
            "Numero de restriçoes = 2\n",
            "Valor ótimo =  100.0\n",
            "x[0]  =  20.0\n",
            "x[1]  =  0.0\n",
            "x[2]  =  0.0\n",
            "\n",
            "Problema resolvido em 11.000000 milliseconds\n",
            "Problema resolvido em 0 iteracoes\n",
            "Problema resolvido em 0 branch-and-bound nodes\n"
          ],
          "name": "stdout"
        }
      ]
    },
    {
      "cell_type": "markdown",
      "metadata": {
        "id": "5GRDC8g_1Jfd",
        "colab_type": "text"
      },
      "source": [
        "# **Dual**"
      ]
    },
    {
      "cell_type": "code",
      "metadata": {
        "id": "VNFCesfW1MCh",
        "colab_type": "code",
        "outputId": "e33a210f-58c2-4b38-c969-63d90c743470",
        "colab": {
          "base_uri": "https://localhost:8080/",
          "height": 68
        }
      },
      "source": [
        "aT = np.transpose( a )\n",
        "bT = c\n",
        "cT = b\n",
        "\n",
        "num_varsT = rest\n",
        "num_restT = var\n",
        "\n",
        "IntOrNot = False\n",
        "LessMoreOrEqual = 'LessOrEqual'\n",
        "MaxOrMin = 'Max'\n",
        "\n",
        "print(aT, bT, cT, num_varsT, num_restT)"
      ],
      "execution_count": 136,
      "outputs": [
        {
          "output_type": "stream",
          "text": [
            "[[3. 4.]\n",
            " [5. 4.]\n",
            " [2. 4.]] [ 5. 10.  8.] [60. 72.] 2 3\n"
          ],
          "name": "stdout"
        }
      ]
    },
    {
      "cell_type": "code",
      "metadata": {
        "id": "CcLypgQt_wM3",
        "colab_type": "code",
        "colab": {}
      },
      "source": [
        "data = create_data_model(aT, bT, cT, num_varsT, num_restT)"
      ],
      "execution_count": 0,
      "outputs": []
    },
    {
      "cell_type": "code",
      "metadata": {
        "id": "NgML8P3AGBck",
        "colab_type": "code",
        "outputId": "ee1eed18-a70f-450f-bb97-48034839d645",
        "colab": {
          "base_uri": "https://localhost:8080/",
          "height": 170
        }
      },
      "source": [
        "main(IntOrNot, LessMoreOrEqual, MaxOrMin)"
      ],
      "execution_count": 138,
      "outputs": [
        {
          "output_type": "stream",
          "text": [
            "Numero de variaveis = 2\n",
            "Numero de restriçoes = 3\n",
            "Valor ótimo =  99.99999999999999\n",
            "x[0]  =  1.6666666666666665\n",
            "x[1]  =  0.0\n",
            "\n",
            "Problema resolvido em 5.000000 milliseconds\n",
            "Problema resolvido em 0 iteracoes\n",
            "Problema resolvido em 0 branch-and-bound nodes\n"
          ],
          "name": "stdout"
        }
      ]
    },
    {
      "cell_type": "code",
      "metadata": {
        "id": "UnBdsO6CGEdD",
        "colab_type": "code",
        "colab": {}
      },
      "source": [
        ""
      ],
      "execution_count": 0,
      "outputs": []
    }
  ]
}