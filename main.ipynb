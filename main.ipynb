{
  "nbformat": 4,
  "nbformat_minor": 0,
  "metadata": {
    "colab": {
      "name": "main.ipynb",
      "provenance": [],
      "collapsed_sections": []
    },
    "kernelspec": {
      "name": "python3",
      "display_name": "Python 3"
    }
  },
  "cells": [
    {
      "cell_type": "code",
      "metadata": {
        "id": "Pch_J6Y-tR4D",
        "colab_type": "code",
        "colab": {}
      },
      "source": [
        "import numpy as np"
      ],
      "execution_count": 0,
      "outputs": []
    },
    {
      "cell_type": "code",
      "metadata": {
        "id": "2u6Vdi8k8u-P",
        "colab_type": "code",
        "outputId": "46d82e1f-75be-4f0a-fa83-42bd965fe0aa",
        "colab": {
          "base_uri": "https://localhost:8080/",
          "height": 343
        }
      },
      "source": [
        "!pip install ortools"
      ],
      "execution_count": 2,
      "outputs": [
        {
          "output_type": "stream",
          "text": [
            "Collecting ortools\n",
            "\u001b[?25l  Downloading https://files.pythonhosted.org/packages/db/8f/7c099bcedd55df8f215ba42b50fd4db6fa5de69bb5b14a0586871683edcd/ortools-7.5.7466-cp36-cp36m-manylinux1_x86_64.whl (27.9MB)\n",
            "\u001b[K     |████████████████████████████████| 27.9MB 143kB/s \n",
            "\u001b[?25hRequirement already satisfied: six>=1.10 in /usr/local/lib/python3.6/dist-packages (from ortools) (1.12.0)\n",
            "Collecting protobuf>=3.11.2\n",
            "\u001b[?25l  Downloading https://files.pythonhosted.org/packages/57/02/5432412c162989260fab61fa65e0a490c1872739eb91a659896e4d554b26/protobuf-3.11.3-cp36-cp36m-manylinux1_x86_64.whl (1.3MB)\n",
            "\u001b[K     |████████████████████████████████| 1.3MB 42.4MB/s \n",
            "\u001b[?25hRequirement already satisfied: setuptools in /usr/local/lib/python3.6/dist-packages (from protobuf>=3.11.2->ortools) (45.1.0)\n",
            "Installing collected packages: protobuf, ortools\n",
            "  Found existing installation: protobuf 3.10.0\n",
            "    Uninstalling protobuf-3.10.0:\n",
            "      Successfully uninstalled protobuf-3.10.0\n",
            "Successfully installed ortools-7.5.7466 protobuf-3.11.3\n"
          ],
          "name": "stdout"
        },
        {
          "output_type": "display_data",
          "data": {
            "application/vnd.colab-display-data+json": {
              "pip_warning": {
                "packages": [
                  "google"
                ]
              }
            }
          },
          "metadata": {
            "tags": []
          }
        }
      ]
    },
    {
      "cell_type": "markdown",
      "metadata": {
        "id": "_Lp8uX7PyY5L",
        "colab_type": "text"
      },
      "source": [
        "# **Lendo arquivo**"
      ]
    },
    {
      "cell_type": "code",
      "metadata": {
        "id": "fUCSK4-MNdcM",
        "colab_type": "code",
        "outputId": "d4edff02-9c51-4b77-f1bf-30e09695296d",
        "colab": {
          "base_uri": "https://localhost:8080/",
          "height": 34
        }
      },
      "source": [
        "path = 'Problema.txt'\n",
        "arquivo = open(path,'r')\n",
        "numeros = []\n",
        "\n",
        "for linha  in arquivo:\n",
        "  linha = linha.strip()\n",
        "  numeros.append(linha)\n",
        "\n",
        "arquivo.close()\n",
        "numeros"
      ],
      "execution_count": 3,
      "outputs": [
        {
          "output_type": "execute_result",
          "data": {
            "text/plain": [
              "['3 2', '5 10 8', '3 5 2 60', '4 4 4 72']"
            ]
          },
          "metadata": {
            "tags": []
          },
          "execution_count": 3
        }
      ]
    },
    {
      "cell_type": "code",
      "metadata": {
        "id": "RStehMedaPRE",
        "colab_type": "code",
        "colab": {}
      },
      "source": [
        "x1 = numeros[0].split(' ') #variaveis e restricoes:\n",
        "c = numeros[1].split(' ') #Coecicientes das variaveis na funcao objetivo"
      ],
      "execution_count": 0,
      "outputs": []
    },
    {
      "cell_type": "code",
      "metadata": {
        "id": "9Fqfhr4enxuS",
        "colab_type": "code",
        "colab": {}
      },
      "source": [
        "rest = len(numeros)-2 #Numeros de restrições\n",
        "var = int(x1[0]) #Números de variáveis"
      ],
      "execution_count": 0,
      "outputs": []
    },
    {
      "cell_type": "markdown",
      "metadata": {
        "id": "dBgjtaMYvxok",
        "colab_type": "text"
      },
      "source": [
        "# ***Formatação para entrada do modelo***\n",
        "  O solver exige que os arrays sejam da seguinte forma:\n",
        "\n",
        "\n",
        "*   Os arrays das restrições precisam ser separados da igualdade\n",
        "  \n",
        "  Ex: \n",
        "  \n",
        "        x1 + x2 <= 10 e x1 + x2 <= 20\n",
        "  é necessário um array [ 10, 20 ] e outro com os coeficientes das restrições"
      ]
    },
    {
      "cell_type": "code",
      "metadata": {
        "id": "MwH5WaJfrN-r",
        "colab_type": "code",
        "outputId": "2c6fa332-2f96-4017-d167-1dfc24f21348",
        "colab": {
          "base_uri": "https://localhost:8080/",
          "height": 34
        }
      },
      "source": [
        "a = [0]*rest #inicializando array com o numero de restricoes\n",
        "b = [0]*rest \n",
        "\n",
        "for i in range(2, len(numeros)): #começando em dois pois oq vem depois da linha 2 sao as restricoes\n",
        "    aa = numeros[i].split(' ')\n",
        "    b[i-2] = aa[len(aa)-1]\n",
        "    del(aa[len(aa)-1])\n",
        "    a[i-2] = aa\n",
        "print(a, b, c)"
      ],
      "execution_count": 6,
      "outputs": [
        {
          "output_type": "stream",
          "text": [
            "[['3', '5', '2'], ['4', '4', '4']] ['60', '72'] ['5', '10', '8']\n"
          ],
          "name": "stdout"
        }
      ]
    },
    {
      "cell_type": "markdown",
      "metadata": {
        "id": "PVxawECZujDB",
        "colab_type": "text"
      },
      "source": [
        "# ***Convertendo os arrays em double***\n",
        "  A biblioteca or-tolls exige que as variáveis sejam desta forma"
      ]
    },
    {
      "cell_type": "code",
      "metadata": {
        "id": "dKxlrrVGtJUR",
        "colab_type": "code",
        "outputId": "716f0b06-8a23-4a56-f335-71ad75030dcb",
        "colab": {
          "base_uri": "https://localhost:8080/",
          "height": 51
        }
      },
      "source": [
        "a = np.double( a )\n",
        "b = np.double( b )\n",
        "c = np.double( c )\n",
        "\n",
        "print(a, b, c)"
      ],
      "execution_count": 7,
      "outputs": [
        {
          "output_type": "stream",
          "text": [
            "[[3. 5. 2.]\n",
            " [4. 4. 4.]] [60. 72.] [ 5. 10.  8.]\n"
          ],
          "name": "stdout"
        }
      ]
    },
    {
      "cell_type": "markdown",
      "metadata": {
        "id": "pmbvuhsygr6x",
        "colab_type": "text"
      },
      "source": [
        "# **Definindo tipos**\n",
        "\n",
        "*  Para resolver o problema em inteiro ou não\n",
        "  \n",
        "        intOrNot = True\n",
        "        intOrNot = False\n",
        "\n",
        "*  Setar igualdades das restrições\n",
        "  \n",
        "        LessMoreOrEqual = 'MoreOrEqual'\n",
        "        LessMoreOrEqual = 'LessOrEqual'\n",
        "      \n",
        "* Setar função objetivo\n",
        "\n",
        "        MaxOrMin = 'Min'\n",
        "        MaxOrMin = 'Max'\n"
      ]
    },
    {
      "cell_type": "code",
      "metadata": {
        "id": "-WfR6leggoJq",
        "colab_type": "code",
        "colab": {}
      },
      "source": [
        "IntOrNot = False\n",
        "LessMoreOrEqual = 'MoreOrEqual'\n",
        "MaxOrMin = 'Min'"
      ],
      "execution_count": 0,
      "outputs": []
    },
    {
      "cell_type": "markdown",
      "metadata": {
        "id": "dhZO4vvtvhFh",
        "colab_type": "text"
      },
      "source": [
        "# ***Criando o modelo***"
      ]
    },
    {
      "cell_type": "code",
      "metadata": {
        "id": "lBokU7pstyW4",
        "colab_type": "code",
        "colab": {}
      },
      "source": [
        "def create_data_model(A, B, C, num_vars, num_rest):\n",
        "  data = {}\n",
        "  data['constraint_coeffs'] = A\n",
        "  data['bounds'] = B\n",
        "  data['obj_coeffs'] = C\n",
        "  data['num_vars'] = num_vars\n",
        "  data['num_constraints'] = num_rest\n",
        "  return data"
      ],
      "execution_count": 0,
      "outputs": []
    },
    {
      "cell_type": "code",
      "metadata": {
        "id": "tJnUM9YZIEeA",
        "colab_type": "code",
        "colab": {}
      },
      "source": [
        "data = create_data_model(a, b, c, var, rest)"
      ],
      "execution_count": 0,
      "outputs": []
    },
    {
      "cell_type": "markdown",
      "metadata": {
        "id": "CLsuM-4Qh_tz",
        "colab_type": "text"
      },
      "source": [
        "# **Main**"
      ]
    },
    {
      "cell_type": "code",
      "metadata": {
        "id": "XhNMQeO2LW3R",
        "colab_type": "code",
        "colab": {}
      },
      "source": [
        "from ortools.linear_solver import pywraplp\n",
        "\n",
        "def main(IntOrNot, LessMoreOrEqual, MaxOrMin):\n",
        "\n",
        "  solver = pywraplp.Solver('simple_mip_program', pywraplp.Solver.CBC_MIXED_INTEGER_PROGRAMMING)\n",
        "\n",
        "  infinity = solver.infinity()\n",
        "  x = {}\n",
        "\n",
        "  if IntOrNot == False:\n",
        "    for j in range(data['num_vars']):\n",
        "        x[j] = solver.NumVar(0, infinity, 'x[%i]' % j) #Variáveis positivas\n",
        "  else:\n",
        "    for j in range(data['num_vars']):\n",
        "        x[j] = solver.IntVar(0, infinity, 'x[%i]' % j) #Variáveis positivas inteiras\n",
        "  \n",
        "  print('Numero de variaveis =', solver.NumVariables())\n",
        "  \n",
        "  if LessMoreOrEqual == 'LessOrEqual':\n",
        "    for i in range(data['num_constraints']):\n",
        "        constraint = solver.RowConstraint(0, data['bounds'][i], '')#limite inferior, superor e nome da restrição\n",
        "        for j in range(data['num_vars']):\n",
        "            constraint.SetCoefficient(x[j], data['constraint_coeffs'][i][j]) \n",
        "  \n",
        "  if LessMoreOrEqual == 'MoreOrEqual':\n",
        "    for i in range(data['num_constraints']):\n",
        "      constraint = solver.RowConstraint(data['bounds'][i], infinity, '')#limite inferior, superior e nome da restrição\n",
        "      for j in range(data['num_vars']):\n",
        "        constraint.SetCoefficient(x[j], data['constraint_coeffs'][i][j]) \n",
        "  \n",
        "  print('Numero de restriçoes =', solver.NumConstraints())\n",
        "\n",
        "  objective = solver.Objective()\n",
        "  \n",
        "  for j in range(data['num_vars']):\n",
        "      objective.SetCoefficient(x[j], data['obj_coeffs'][j])\n",
        "  \n",
        "  if MaxOrMin == 'Max':\n",
        "    objective.SetMaximization()\n",
        "  else:\n",
        "    objective.SetMinimization()\n",
        "\n",
        "  status = solver.Solve()\n",
        "\n",
        "  solution_value = []\n",
        "  if status == pywraplp.Solver.OPTIMAL:\n",
        "      print('Valor ótimo = ', solver.Objective().Value())\n",
        "      for j in range(data['num_vars']):\n",
        "          print(x[j].name(), ' = ', x[j].solution_value())\n",
        "          solution_value.append(x[j].solution_value()) \n",
        "      print()\n",
        "      print('Problema resolvido em %f milliseconds' % solver.wall_time())\n",
        "      print('Problema resolvido em %d iteracoes' % (solver.iterations()+1))\n",
        "      return solution_value #retornando os valores soluções\n",
        "  else:\n",
        "      print('Nao tem solucao otima.')"
      ],
      "execution_count": 0,
      "outputs": []
    },
    {
      "cell_type": "code",
      "metadata": {
        "id": "ekpLErVhfcjE",
        "colab_type": "code",
        "outputId": "28a3d947-2e25-4842-9004-34f806566013",
        "colab": {
          "base_uri": "https://localhost:8080/",
          "height": 170
        }
      },
      "source": [
        "solution_primal = main(IntOrNot, LessMoreOrEqual, MaxOrMin)"
      ],
      "execution_count": 21,
      "outputs": [
        {
          "output_type": "stream",
          "text": [
            "Numero de variaveis = 3\n",
            "Numero de restriçoes = 2\n",
            "Valor ótimo =  100.0\n",
            "x[0]  =  20.0\n",
            "x[1]  =  0.0\n",
            "x[2]  =  0.0\n",
            "\n",
            "Problema resolvido em 8.000000 milliseconds\n",
            "Problema resolvido em 1 iteracoes\n"
          ],
          "name": "stdout"
        }
      ]
    },
    {
      "cell_type": "markdown",
      "metadata": {
        "id": "5GRDC8g_1Jfd",
        "colab_type": "text"
      },
      "source": [
        "# **Dual**"
      ]
    },
    {
      "cell_type": "code",
      "metadata": {
        "id": "VNFCesfW1MCh",
        "colab_type": "code",
        "colab": {}
      },
      "source": [
        "aT = np.transpose( a )\n",
        "bT = c\n",
        "cT = b\n",
        "\n",
        "num_varsT = rest\n",
        "num_restT = var\n",
        "\n",
        "IntOrNot = False\n",
        "LessMoreOrEqual = 'LessOrEqual'\n",
        "MaxOrMin = 'Max'"
      ],
      "execution_count": 0,
      "outputs": []
    },
    {
      "cell_type": "code",
      "metadata": {
        "id": "CcLypgQt_wM3",
        "colab_type": "code",
        "colab": {}
      },
      "source": [
        "data = create_data_model(aT, bT, cT, num_varsT, num_restT)"
      ],
      "execution_count": 0,
      "outputs": []
    },
    {
      "cell_type": "code",
      "metadata": {
        "id": "NgML8P3AGBck",
        "colab_type": "code",
        "outputId": "7b332d94-9ee7-4b17-fdfb-afb6494ad6d5",
        "colab": {
          "base_uri": "https://localhost:8080/",
          "height": 170
        }
      },
      "source": [
        "print(\"========== DUAL ==========\")\n",
        "solution_dual = main(IntOrNot, LessMoreOrEqual, MaxOrMin)"
      ],
      "execution_count": 24,
      "outputs": [
        {
          "output_type": "stream",
          "text": [
            "========== DUAL ==========\n",
            "Numero de variaveis = 2\n",
            "Numero de restriçoes = 3\n",
            "Valor ótimo =  99.99999999999999\n",
            "x[0]  =  1.6666666666666665\n",
            "x[1]  =  0.0\n",
            "\n",
            "Problema resolvido em 6.000000 milliseconds\n",
            "Problema resolvido em 1 iteracoes\n"
          ],
          "name": "stdout"
        }
      ]
    },
    {
      "cell_type": "markdown",
      "metadata": {
        "id": "UG_q5L5z_S4d",
        "colab_type": "text"
      },
      "source": [
        "# **Variaveis de folga e excessos**"
      ]
    },
    {
      "cell_type": "code",
      "metadata": {
        "id": "UnBdsO6CGEdD",
        "colab_type": "code",
        "colab": {}
      },
      "source": [
        "def FolgasOrExces(solution, a, b):\n",
        "  folgasOuExcesso=[]\n",
        "  \n",
        "  print(\"Restrições: \", a)\n",
        "  print(\"Lado direito da igualdade: \", b)\n",
        "  print(\"Solução: \", solution)\n",
        "\n",
        "  soma = 0\n",
        "  for i in range(0, len(a)): #somatório de cada restrição\n",
        "    for j in range(0, len(a[i])): #for percorrendo cada elemento da restrição\n",
        "      soma = soma + a[i][j]*solution[j] #Coeficiente da restrição vezes o valor da solução\n",
        "\n",
        "    soma = abs(abs(soma) - abs(b[i])) #Pegando a diferença (folgas/excessos)\n",
        "    folgasOuExcesso.append(soma)\n",
        "    soma = 0\n",
        "  \n",
        "  return folgasOuExcesso"
      ],
      "execution_count": 0,
      "outputs": []
    },
    {
      "cell_type": "code",
      "metadata": {
        "id": "qZi8uYEpsSY7",
        "colab_type": "code",
        "colab": {
          "base_uri": "https://localhost:8080/",
          "height": 119
        },
        "outputId": "78cc66b5-9b11-4d26-8750-d24114429881"
      },
      "source": [
        "folgas_ou_excesso_primal = FolgasOrExces(solution_primal, a, b)\n",
        "print()\n",
        "print(\"Valores de folgas/excesso: \", folgas_ou_excesso_primal)"
      ],
      "execution_count": 107,
      "outputs": [
        {
          "output_type": "stream",
          "text": [
            "Restrições:  [[3. 5. 2.]\n",
            " [4. 4. 4.]]\n",
            "Lado direito da igualdade:  [60. 72.]\n",
            "Solução:  [20.0, 0.0, 0.0]\n",
            "\n",
            "Valores de folgas/excesso:  [0.0, 8.0]\n"
          ],
          "name": "stdout"
        }
      ]
    },
    {
      "cell_type": "code",
      "metadata": {
        "id": "gTo7nAVssjdW",
        "colab_type": "code",
        "colab": {
          "base_uri": "https://localhost:8080/",
          "height": 136
        },
        "outputId": "1257c1ba-b718-4833-c26c-1b203c0539c7"
      },
      "source": [
        "folgas_ou_excesso_dual = FolgasOrExces(solution_dual, aT, bT)\n",
        "print()\n",
        "print(\"Valores de folgas/excesso: \", folgas_ou_excesso_dual)"
      ],
      "execution_count": 105,
      "outputs": [
        {
          "output_type": "stream",
          "text": [
            "Restrições:  [[3. 4.]\n",
            " [5. 4.]\n",
            " [2. 4.]]\n",
            "Lado direito da igualdade:  [ 5. 10.  8.]\n",
            "Solução:  [1.6666666666666665, 0.0]\n",
            "\n",
            "Valores de folgas/excesso:  [0.0, 1.6666666666666679, 4.666666666666667]\n"
          ],
          "name": "stdout"
        }
      ]
    },
    {
      "cell_type": "markdown",
      "metadata": {
        "id": "p-0mpFgK_oJG",
        "colab_type": "text"
      },
      "source": [
        "# **Folgas/Excessos complementares**"
      ]
    },
    {
      "cell_type": "code",
      "metadata": {
        "id": "O0BOJoDL3ApG",
        "colab_type": "code",
        "colab": {}
      },
      "source": [
        "def complementares (solution, folgasOrExcess):\n",
        "  complemento = []\n",
        "\n",
        "  for i in range (len(solution)):\n",
        "    complemento.append(solution[i]*folgasOrExcess[i]) #Multiplicação do valor da solulçao vezes a folga ou excesso do complementar\n",
        "  \n",
        "  return complemento"
      ],
      "execution_count": 0,
      "outputs": []
    },
    {
      "cell_type": "code",
      "metadata": {
        "id": "5xCyy9gv7mjg",
        "colab_type": "code",
        "colab": {
          "base_uri": "https://localhost:8080/",
          "height": 34
        },
        "outputId": "6a56550f-2e97-4fff-dbae-415f987b6767"
      },
      "source": [
        "complementar_primal = complementares(solution_primal, folgas_ou_excesso_dual)\n",
        "print(\"Valor da solução vezes o complementar excesso/folga: \", complementar_primal)"
      ],
      "execution_count": 102,
      "outputs": [
        {
          "output_type": "stream",
          "text": [
            "Valor da solução vezes o complementar excesso/folga:  [0.0, 0.0, 0.0]\n"
          ],
          "name": "stdout"
        }
      ]
    },
    {
      "cell_type": "code",
      "metadata": {
        "id": "6AKwNEv29jrw",
        "colab_type": "code",
        "colab": {
          "base_uri": "https://localhost:8080/",
          "height": 34
        },
        "outputId": "ae4544b5-d33d-4efc-b3dc-7fc157e19a1f"
      },
      "source": [
        "complementar_dual = complementares(solution_primal, folgas_ou_excesso_dual)\n",
        "print(\"Valor da solução do dual vezes o complementar excesso/folga: \", complementar_dual)"
      ],
      "execution_count": 103,
      "outputs": [
        {
          "output_type": "stream",
          "text": [
            "Valor da solução do dual vezes o complementar excesso/folga:  [0.0, 0.0, 0.0]\n"
          ],
          "name": "stdout"
        }
      ]
    },
    {
      "cell_type": "code",
      "metadata": {
        "id": "_Acv77FG923u",
        "colab_type": "code",
        "colab": {}
      },
      "source": [
        ""
      ],
      "execution_count": 0,
      "outputs": []
    }
  ]
}